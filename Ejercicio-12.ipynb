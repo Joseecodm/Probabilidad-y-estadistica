{
 "cells": [
  {
   "cell_type": "markdown",
   "metadata": {},
   "source": [
    "# Ejercicio 12: Nutrición"
   ]
  },
  {
   "cell_type": "markdown",
   "metadata": {},
   "source": [
    "# Contenido\n",
    "\n",
    "- [Tabla de distribucion de frecuencias](#Tabla)\n",
    "- [Histograma](#Histograma)\n",
    "- [Descripcion del histograma](#Desc)\n",
    "- [Ojiva](#Ojiva)\n",
    "- [Investigacion](#Investigación)"
   ]
  },
  {
   "cell_type": "markdown",
   "metadata": {},
   "source": [
    "## Alumnos: \n",
    "- Carmen Anahí Cornejo López\n",
    "- José Manuel Cortes Cerón"
   ]
  },
  {
   "cell_type": "code",
   "execution_count": 1,
   "metadata": {},
   "outputs": [
    {
     "name": "stdout",
     "output_type": "stream",
     "text": [
      "Setup terminado\n"
     ]
    }
   ],
   "source": [
    "import matplotlib.pyplot as plt\n",
    "print(\"Setup terminado\")"
   ]
  },
  {
   "cell_type": "markdown",
   "metadata": {},
   "source": [
    "<a id=\"Tabla\"><a/>\n",
    "# Tabla de distribucion de frecuencias\n",
    "   "
   ]
  },
  {
   "cell_type": "markdown",
   "metadata": {},
   "source": [
    "<table border=\"1\">\n",
    "  <thead>\n",
    "    <tr>\n",
    "      <th>No. de Clases</th>\n",
    "      <th>Clases</th>\n",
    "      <th>Lím. Inferior</th>\n",
    "      <th>Lím. Superior</th>\n",
    "      <th>Marcas de Clases</th>\n",
    "      <th>Frec. Absoluta</th>\n",
    "      <th>Frec. Relativa</th>\n",
    "      <th>Frec. Acumulada</th>\n",
    "    </tr>\n",
    "  </thead>\n",
    "  <tbody>\n",
    "    <tr>\n",
    "      <td>1</td>\n",
    "      <td>250 - 340</td>\n",
    "      <td>250</td>\n",
    "      <td>340</td>\n",
    "      <td>295</td>\n",
    "      <td>9</td>\n",
    "      <td>0.2903</td>\n",
    "      <td>9</td>\n",
    "    </tr>\n",
    "    <tr>\n",
    "      <td>2</td>\n",
    "      <td>341 - 430</td>\n",
    "      <td>341</td>\n",
    "      <td>430</td>\n",
    "      <td>385.5</td>\n",
    "      <td>6</td>\n",
    "      <td>0.1935</td>\n",
    "      <td>15</td>\n",
    "    </tr>\n",
    "    <tr>\n",
    "      <td>3</td>\n",
    "      <td>431 - 520</td>\n",
    "      <td>431</td>\n",
    "      <td>520</td>\n",
    "      <td>475.5</td>\n",
    "      <td>6</td>\n",
    "      <td>0.1935</td>\n",
    "      <td>21</td>\n",
    "    </tr>\n",
    "    <tr>\n",
    "      <td>4</td>\n",
    "      <td>521 - 610</td>\n",
    "      <td>521</td>\n",
    "      <td>610</td>\n",
    "      <td>565.5</td>\n",
    "      <td>4</td>\n",
    "      <td>0.1290</td>\n",
    "      <td>25</td>\n",
    "    </tr>\n",
    "    <tr>\n",
    "      <td>5</td>\n",
    "      <td>611 - 700</td>\n",
    "      <td>611</td>\n",
    "      <td>700</td>\n",
    "      <td>655.5</td>\n",
    "      <td>1</td>\n",
    "      <td>0.0323</td>\n",
    "      <td>26</td>\n",
    "    </tr>\n",
    "    <tr>\n",
    "      <td>6</td>\n",
    "      <td>701 - 790</td>\n",
    "      <td>701</td>\n",
    "      <td>790</td>\n",
    "      <td>745.5</td>\n",
    "      <td>4</td>\n",
    "      <td>0.1290</td>\n",
    "      <td>30</td>\n",
    "    </tr>\n",
    "  </tbody>\n",
    "</table>\n"
   ]
  },
  {
   "cell_type": "markdown",
   "metadata": {},
   "source": [
    "<a id=\"Listas\"><a/>\n",
    "# Listas de datos\n"
   ]
  },
  {
   "cell_type": "markdown",
   "metadata": {},
   "source": [
    "La siguientes celdas contienen todas las listas necesarias para generar los cinco graficos: histograma, diagrama de barras, diagrama circular, poligono de frecuencias y ojiva.  "
   ]
  },
  {
   "cell_type": "code",
   "execution_count": 2,
   "metadata": {},
   "outputs": [],
   "source": [
    "## Etiquetas del eje x\n",
    "marcas_clase = ['295', '385.5', '475.5', '565.5', '655.5', '745.5']\n",
    "\n",
    "# Datos para el eje x\n",
    "valores_ref_eje = list(range(1, len(marcas_clase) + 1))\n",
    "\n",
    "fa = [9, 6, 6, 4, 1, 4]\n",
    "fa_txt = ['9', '6', '6', '4', '1', '4']\n",
    "# frecuencias_relativas = [0.2903, 0.1935, 0.1935, 0.1290, 0.0323, 0.1290]\n",
    "facum = [9, 15, 21, 25, 26, 30]\n",
    "\n",
    "# - 7 colores disponibles\n",
    "# - Seleccionar color hexadecimal: https://htmlcolorcodes.com/es/\n",
    "colores = [\"#8A75F5\", \"#D419E3\", \"#241A58\", \"#19E322\", \"#E31972\", \"#198AE3\", \"#EECD15\"]"
   ]
  },
  {
   "cell_type": "markdown",
   "metadata": {},
   "source": [
    "<a id=\"Histograma\"><a/>\n",
    "# Histograma\n"
   ]
  },
  {
   "cell_type": "code",
   "execution_count": 3,
   "metadata": {},
   "outputs": [
    {
     "data": {
      "image/png": "[encoded data removed]",
      "text/plain": [
       "<Figure size 800x400 with 1 Axes>"
      ]
     },
     "metadata": {},
     "output_type": "display_data"
    }
   ],
   "source": [
    "plt.figure(figsize = (8, 4)) # (Ancho, alto) del grafico\n",
    "\n",
    "# Histograma:\n",
    "# - Barras al 100% de ancho (width = 1)\n",
    "# - Color del contorno de las baras en negro (edgecolor= \"k\")\n",
    "\n",
    "plt.bar(valores_ref_eje, fa,\n",
    "        width = 1, edgecolor= \"k\", \n",
    "        color = colores) \n",
    "\n",
    "plt.xticks(valores_ref_eje, marcas_clase, fontsize = 10) # Etiquetar marcas de clase \n",
    "plt.xlabel(\"Marcas de clase\", fontsize = 15) # Etiqueta del eje x\n",
    "plt.ylabel(\"Frecuencia absoluta\", fontsize = 15) # Etiqueta del eje y\n",
    "plt.title(\"Histograma\", fontsize = 20) # Titulo\n",
    "plt.grid() # Activar cuadricula\n",
    "plt.show() # Mostrar grafico"
   ]
  },
  {
   "cell_type": "markdown",
   "metadata": {},
   "source": [
    "<a id=\"Desc\"><a/>\n",
    "# Descripcion de los datos observados:"
   ]
  },
  {
   "cell_type": "markdown",
   "metadata": {},
   "source": [
    "\n",
    "\n",
    "- En el histograma, la forma de la distribución de las calorías sugiere que la clase 5 es la menos consumida.\n",
    "\n",
    "- Hemos analizado el histograma para comprender cuán variables son las opciones en términos de contenido calórico. La clase 6 se destaca como la más calórica, 4 de cada 30 la consumen, mientras que la clase 1 es la más consumida debido a su menor contenido calórico.\n",
    "\n"
   ]
  },
  {
   "cell_type": "markdown",
   "metadata": {},
   "source": [
    "<a id=\"Conc\"><a/>\n",
    "# Conclusión"
   ]
  },
  {
   "cell_type": "markdown",
   "metadata": {},
   "source": [
    "\n",
    "- En resumen, estos datos nos proporcionan una comprensión detallada del contenido calórico de los sándwiches. Esta información es crucial para guiar estrategias de menú y ayudar a los clientes a tomar decisiones informadas sobre sus elecciones alimenticias."
   ]
  },
  {
   "cell_type": "markdown",
   "metadata": {},
   "source": [
    "Carmen "
   ]
  },
  {
   "cell_type": "markdown",
   "metadata": {},
   "source": []
  }
 ],
 "metadata": {
  "kernelspec": {
   "display_name": "Python 3",
   "language": "python",
   "name": "python3"
  },
  "language_info": {
   "codemirror_mode": {
    "name": "ipython",
    "version": 3
   },
   "file_extension": ".py",
   "mimetype": "text/x-python",
   "name": "python",
   "nbconvert_exporter": "python",
   "pygments_lexer": "ipython3",
   "version": "3.11.8"
  }
 },
 "nbformat": 4,
 "nbformat_minor": 2
}
