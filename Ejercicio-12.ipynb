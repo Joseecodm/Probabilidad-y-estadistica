{
 "cells": [
  {
   "cell_type": "markdown",
   "metadata": {},
   "source": [
    "Jose"
   ]
  },
  {
   "cell_type": "markdown",
   "metadata": {},
   "source": [
    "# Ejercicio 12: Nutrición"
   ]
  },
  {
   "cell_type": "markdown",
   "metadata": {},
   "source": [
    "# Contenido\n",
    "\n",
    "- [Tabla de distribucion de frecuencias](#Tabla)\n",
    "- [Histograma](#Histograma)\n",
    "- [Descripcion del histograma](#Desc)\n",
    "- [Ojiva](#Ojiva)\n",
    "- [Investigacion](#Investigación)"
   ]
  },
  {
   "cell_type": "markdown",
   "metadata": {},
   "source": [
    "## Alumnos: \n",
    "- Carmen Anahí Cornejo López\n",
    "- José Manuel Cortes Cerón"
   ]
  },
  {
   "cell_type": "code",
   "execution_count": null,
   "metadata": {},
   "outputs": [],
   "source": [
    "import matplotlib.pyplot as plt\n",
    "print(\"Setup terminado\")"
   ]
  },
  {
   "cell_type": "markdown",
   "metadata": {},
   "source": [
    "<a id=\"Tabla\"><a/>\n",
    "# Tabla de distribucion de frecuencias\n",
    "   "
   ]
  },
  {
   "cell_type": "markdown",
   "metadata": {},
   "source": [
    "<table border=\"1\">\n",
    "  <thead>\n",
    "    <tr>\n",
    "      <th>No. de Clases</th>\n",
    "      <th>Clases</th>\n",
    "      <th>Lím. Inferior</th>\n",
    "      <th>Lím. Superior</th>\n",
    "      <th>Marcas de Clases</th>\n",
    "      <th>Frec. Absoluta</th>\n",
    "      <th>Frec. Relativa</th>\n",
    "      <th>Frec. Acumulada</th>\n",
    "    </tr>\n",
    "  </thead>\n",
    "  <tbody>\n",
    "    <tr>\n",
    "      <td>1</td>\n",
    "      <td>250 - 340</td>\n",
    "      <td>250</td>\n",
    "      <td>340</td>\n",
    "      <td>295</td>\n",
    "      <td>9</td>\n",
    "      <td>0.2903</td>\n",
    "      <td>9</td>\n",
    "    </tr>\n",
    "    <tr>\n",
    "      <td>2</td>\n",
    "      <td>341 - 430</td>\n",
    "      <td>341</td>\n",
    "      <td>430</td>\n",
    "      <td>385.5</td>\n",
    "      <td>6</td>\n",
    "      <td>0.1935</td>\n",
    "      <td>15</td>\n",
    "    </tr>\n",
    "    <tr>\n",
    "      <td>3</td>\n",
    "      <td>431 - 520</td>\n",
    "      <td>431</td>\n",
    "      <td>520</td>\n",
    "      <td>475.5</td>\n",
    "      <td>6</td>\n",
    "      <td>0.1935</td>\n",
    "      <td>21</td>\n",
    "    </tr>\n",
    "    <tr>\n",
    "      <td>4</td>\n",
    "      <td>521 - 610</td>\n",
    "      <td>521</td>\n",
    "      <td>610</td>\n",
    "      <td>565.5</td>\n",
    "      <td>4</td>\n",
    "      <td>0.1290</td>\n",
    "      <td>25</td>\n",
    "    </tr>\n",
    "    <tr>\n",
    "      <td>5</td>\n",
    "      <td>611 - 700</td>\n",
    "      <td>611</td>\n",
    "      <td>700</td>\n",
    "      <td>655.5</td>\n",
    "      <td>1</td>\n",
    "      <td>0.0323</td>\n",
    "      <td>26</td>\n",
    "    </tr>\n",
    "    <tr>\n",
    "      <td>6</td>\n",
    "      <td>701 - 790</td>\n",
    "      <td>701</td>\n",
    "      <td>790</td>\n",
    "      <td>745.5</td>\n",
    "      <td>4</td>\n",
    "      <td>0.1290</td>\n",
    "      <td>30</td>\n",
    "    </tr>\n",
    "  </tbody>\n",
    "</table>\n"
   ]
  },
  {
   "cell_type": "markdown",
   "metadata": {},
   "source": [
    "<a id=\"Histograma\"><a/>\n",
    "# Histograma\n"
   ]
  },
  {
   "cell_type": "code",
   "execution_count": null,
   "metadata": {},
   "outputs": [],
   "source": [
    "plt.figure(figsize = (8, 4)) # (Ancho, alto) del grafico\n",
    "\n",
    "# Histograma:\n",
    "# - Barras al 100% de ancho (width = 1)\n",
    "# - Color del contorno de las baras en negro (edgecolor= \"k\")\n",
    "\n",
    "plt.bar(valores_ref_eje, fa,\n",
    "        width = 1, edgecolor= \"k\", \n",
    "        color = colores) \n",
    "\n",
    "plt.xticks(valores_ref_eje, marcas_clase, fontsize = 10) # Etiquetar marcas de clase \n",
    "plt.xlabel(\"Marcas de clase\", fontsize = 15) # Etiqueta del eje x\n",
    "plt.ylabel(\"Frecuencia absoluta\", fontsize = 15) # Etiqueta del eje y\n",
    "plt.title(\"Histograma\", fontsize = 20) # Titulo\n",
    "plt.grid() # Activar cuadricula\n",
    "plt.show() # Mostrar grafico"
   ]
  },
  {
   "cell_type": "markdown",
   "metadata": {},
   "source": [
    "<a id=\"Desc\"><a/>\n",
    "# Descripcion de los datos observados:"
   ]
  },
  {
   "cell_type": "markdown",
   "metadata": {},
   "source": [
    "\n",
    "\n",
    "- En el histograma, la forma de la distribución de las calorías sugiere que la clase 5 es la menos consumida.\n",
    "\n",
    "- Hemos analizado el histograma para comprender cuán variables son las opciones en términos de contenido calórico. La clase 6 se destaca como la más calórica, 4 de cada 30 la consumen, mientras que la clase 1 es la más consumida debido a su menor contenido calórico.\n",
    "\n"
   ]
  },
  {
   "cell_type": "markdown",
   "metadata": {},
   "source": [
    "<a id=\"Conc\"><a/>\n",
    "# Conclusión"
   ]
  },
  {
   "cell_type": "markdown",
   "metadata": {},
   "source": [
    "\n",
    "- En resumen, estos datos nos proporcionan una comprensión detallada del contenido calórico de los sándwiches. Esta información es crucial para guiar estrategias de menú y ayudar a los clientes a tomar decisiones informadas sobre sus elecciones alimenticias."
   ]
  },
  {
   "cell_type": "markdown",
   "metadata": {},
   "source": [
    "<a id=\"Ojiva\"><a/>\n",
    "# Ojiva\n"
   ]
  },
  {
   "cell_type": "code",
   "execution_count": null,
   "metadata": {},
   "outputs": [],
   "source": [
    "plt.figure(figsize = (8, 4)) # (Ancho, alto) del grafico\n",
    "\n",
    "# Ajustes a las listas para graficar la ojiva\n",
    "datos_x = [0] + valores_ref_eje\n",
    "datos_y = [0] + facum\n",
    "\n",
    "# El poligono de frecuencias tiene: \n",
    "# - Una linea con estilo = \"Linea cortadita\" o discontinua. \n",
    "# - Valores validos para el estilo de la linea: '-', '--', '-.', ':', 'None', ' ', '', 'solid', 'dashed', 'dashdot', 'dotted'\n",
    "# - Forma de marcador triangular (marker = \"v\"). https://matplotlib.org/stable/api/markers_api.html\n",
    "\n",
    "plt.plot(datos_x, datos_y, \n",
    "         linewidth = 3, color = \"k\" , linestyle = \"--\", \n",
    "         marker = \"p\", markersize = 10, markerfacecolor = \"y\", markeredgecolor = \"r\" ) \n",
    "\n",
    "plt.xticks(valores_ref_eje, marcas_clase, fontsize = 10, ) # Etiquetar marcas de clase \n",
    "plt.xlabel(\"Marcas de clase\", fontsize = 15) # Etiqueta del eje x\n",
    "plt.ylabel(\"Frecuencia acumulada\", fontsize = 15) # Etiqueta del eje y\n",
    "plt.title(\"Ojiva\", fontsize = 20) # Titulo\n",
    "plt.grid() # Activar cuadricula\n",
    "plt.show() # Mostrar grafico"
   ]
  },
  {
   "cell_type": "markdown",
   "metadata": {},
   "source": [
    "<a id=\"Investigación\"><a/>\n",
    "# Investigación:"
   ]
  },
  {
   "cell_type": "markdown",
   "metadata": {},
   "source": [
    "    \n",
    "## ¿Cual es la ingesta calorica diaria de un mexicano?\n",
    "\n",
    "- Casi la mitad de los mexicanos reconoce no saber cuántas calorías consume diariamente y 2 de cada diez considera que ingiere más de 2500 calorías al día. Al cuestionar a quienes dicen sí saber cuántas calorías consumen, encontramos que una cuarta parte calcula el número de calorías, otra cuarta parte lo hace leyendo las etiquetas de los alimentos, 16% no sabe cómo se ha enterado y 17% solamente se lo imagina, lo que nos indica que son muy pocas las personas que realmente conocen su consumo calórico diario con precisión.\n",
    "\n",
    "\n",
    "## ¿Han pensado qué sucede si consumes alimentos con muchas calorías?\n",
    "\n",
    "- El consumo excesivo de alimentos con muchas calorías puede tener efectos negativos en la salud. Ingerir más calorías de las necesarias puede provocar aumento de peso y, a largo plazo, contribuir a la obesidad, aumentando el riesgo de enfermedades crónicas como diabetes y problemas cardíacos. Una dieta rica en calorías pero pobre en nutrientes también puede resultar en fatiga, falta de energía y desarrollo de hábitos alimenticios poco saludables. Es esencial mantener un equilibrio adecuado entre la ingesta de calorías y el gasto energético, priorizando alimentos nutritivos para promover un peso saludable y prevenir problemas de salud a largo plazo.\n",
    "\n"
   ]
  }
 ],
 "metadata": {
  "kernelspec": {
   "display_name": "Python 3",
   "language": "python",
   "name": "python3"
  },
  "language_info": {
   "name": "python",
   "version": "3.12.2"
  }
 },
 "nbformat": 4,
 "nbformat_minor": 2
}
